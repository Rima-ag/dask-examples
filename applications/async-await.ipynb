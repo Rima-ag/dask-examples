{
 "cells": [
  {
   "cell_type": "markdown",
   "metadata": {},
   "source": [
    "Async/Await and Non-Blocking Execution\n",
    "=======================================\n",
    "\n",
    "Dask integrates natively with concurrent applications using the [Tornado](https://www.tornadoweb.org/en/stable/) or [Asyncio](https://docs.python.org/3/library/asyncio.html) frameworks, and can make use of Python's `async` and `await` keywords.\n",
    "\n",
    "This example shows a small example how how to start up a Dask Client in asynchronous mode."
   ]
  },
  {
   "cell_type": "markdown",
   "metadata": {},
   "source": [
    "The `asynchronous=True` parameter\n",
    "---------------------------------\n",
    "\n",
    "Dask LocalCluster and Client objects can operate in async-await mode if you pass the `asynchronous=True` parameter."
   ]
  },
  {
   "cell_type": "code",
   "execution_count": 1,
   "metadata": {
    "execution": {
     "iopub.execute_input": "2022-06-06T15:36:12.597487Z",
     "iopub.status.busy": "2022-06-06T15:36:12.597249Z",
     "iopub.status.idle": "2022-06-06T15:36:14.764702Z",
     "shell.execute_reply": "2022-06-06T15:36:14.763558Z"
    }
   },
   "outputs": [],
   "source": [
    "from dask.distributed import Client\n",
    "client = await Client(asynchronous=True)"
   ]
  },
  {
   "cell_type": "code",
   "execution_count": 2,
   "metadata": {
    "execution": {
     "iopub.execute_input": "2022-06-06T15:36:14.769851Z",
     "iopub.status.busy": "2022-06-06T15:36:14.769082Z",
     "iopub.status.idle": "2022-06-06T15:36:14.935615Z",
     "shell.execute_reply": "2022-06-06T15:36:14.935109Z"
    }
   },
   "outputs": [
    {
     "data": {
      "text/html": [
       "<strong>Future: inc</strong>\n",
       "<span style=\"color: var(--jp-ui-font-color2, gray)\"> status: </span>\n",
       "\n",
       "\n",
       "<span style=\"color: var(--jp-error-color0, black)\">pending</span>,\n",
       "\n",
       "\n",
       "\n",
       "<span style=\"color: var(--jp-ui-font-color2, gray)\"> type:</span> NoneType,\n",
       "\n",
       "\n",
       "<span style=\"color: var(--jp-ui-font-color2, gray)\"> key:</span> inc-af025645abdfcf43c3e1fdb150374842"
      ],
      "text/plain": [
       "<Future: pending, key: inc-af025645abdfcf43c3e1fdb150374842>"
      ]
     },
     "execution_count": 2,
     "metadata": {},
     "output_type": "execute_result"
    }
   ],
   "source": [
    "def inc(x: int) -> int:\n",
    "    return x + 1\n",
    "\n",
    "future = client.submit(inc, 10)\n",
    "future"
   ]
  },
  {
   "cell_type": "code",
   "execution_count": 3,
   "metadata": {
    "execution": {
     "iopub.execute_input": "2022-06-06T15:36:14.940885Z",
     "iopub.status.busy": "2022-06-06T15:36:14.939812Z",
     "iopub.status.idle": "2022-06-06T15:36:14.955572Z",
     "shell.execute_reply": "2022-06-06T15:36:14.954843Z"
    }
   },
   "outputs": [
    {
     "data": {
      "text/plain": [
       "11"
      ]
     },
     "execution_count": 3,
     "metadata": {},
     "output_type": "execute_result"
    }
   ],
   "source": [
    "await future"
   ]
  },
  {
   "cell_type": "markdown",
   "metadata": {},
   "source": [
    "Collections\n",
    "-----------\n",
    "\n",
    "Note that blocking operations like the `.compute()` method aren't ok to use in asynchronous mode.  Instead you'll have to use the `Client.compute` method."
   ]
  },
  {
   "cell_type": "code",
   "execution_count": 4,
   "metadata": {
    "execution": {
     "iopub.execute_input": "2022-06-06T15:36:14.958570Z",
     "iopub.status.busy": "2022-06-06T15:36:14.958163Z",
     "iopub.status.idle": "2022-06-06T15:36:15.332641Z",
     "shell.execute_reply": "2022-06-06T15:36:15.332005Z"
    }
   },
   "outputs": [
    {
     "data": {
      "text/html": [
       "<div><strong>Dask DataFrame Structure:</strong></div>\n",
       "<div>\n",
       "<style scoped>\n",
       "    .dataframe tbody tr th:only-of-type {\n",
       "        vertical-align: middle;\n",
       "    }\n",
       "\n",
       "    .dataframe tbody tr th {\n",
       "        vertical-align: top;\n",
       "    }\n",
       "\n",
       "    .dataframe thead th {\n",
       "        text-align: right;\n",
       "    }\n",
       "</style>\n",
       "<table border=\"1\" class=\"dataframe\">\n",
       "  <thead>\n",
       "    <tr style=\"text-align: right;\">\n",
       "      <th></th>\n",
       "      <th>id</th>\n",
       "      <th>name</th>\n",
       "      <th>x</th>\n",
       "      <th>y</th>\n",
       "    </tr>\n",
       "    <tr>\n",
       "      <th>npartitions=30</th>\n",
       "      <th></th>\n",
       "      <th></th>\n",
       "      <th></th>\n",
       "      <th></th>\n",
       "    </tr>\n",
       "  </thead>\n",
       "  <tbody>\n",
       "    <tr>\n",
       "      <th>2000-01-01</th>\n",
       "      <td>int64</td>\n",
       "      <td>object</td>\n",
       "      <td>float64</td>\n",
       "      <td>float64</td>\n",
       "    </tr>\n",
       "    <tr>\n",
       "      <th>2000-01-02</th>\n",
       "      <td>...</td>\n",
       "      <td>...</td>\n",
       "      <td>...</td>\n",
       "      <td>...</td>\n",
       "    </tr>\n",
       "    <tr>\n",
       "      <th>...</th>\n",
       "      <td>...</td>\n",
       "      <td>...</td>\n",
       "      <td>...</td>\n",
       "      <td>...</td>\n",
       "    </tr>\n",
       "    <tr>\n",
       "      <th>2000-01-30</th>\n",
       "      <td>...</td>\n",
       "      <td>...</td>\n",
       "      <td>...</td>\n",
       "      <td>...</td>\n",
       "    </tr>\n",
       "    <tr>\n",
       "      <th>2000-01-31</th>\n",
       "      <td>...</td>\n",
       "      <td>...</td>\n",
       "      <td>...</td>\n",
       "      <td>...</td>\n",
       "    </tr>\n",
       "  </tbody>\n",
       "</table>\n",
       "</div>\n",
       "<div>Dask Name: make-timeseries, 30 tasks</div>"
      ],
      "text/plain": [
       "Dask DataFrame Structure:\n",
       "                   id    name        x        y\n",
       "npartitions=30                                 \n",
       "2000-01-01      int64  object  float64  float64\n",
       "2000-01-02        ...     ...      ...      ...\n",
       "...               ...     ...      ...      ...\n",
       "2000-01-30        ...     ...      ...      ...\n",
       "2000-01-31        ...     ...      ...      ...\n",
       "Dask Name: make-timeseries, 30 tasks"
      ]
     },
     "execution_count": 4,
     "metadata": {},
     "output_type": "execute_result"
    }
   ],
   "source": [
    "import dask\n",
    "df = dask.datasets.timeseries()\n",
    "df"
   ]
  },
  {
   "cell_type": "code",
   "execution_count": 5,
   "metadata": {
    "execution": {
     "iopub.execute_input": "2022-06-06T15:36:15.336876Z",
     "iopub.status.busy": "2022-06-06T15:36:15.336355Z",
     "iopub.status.idle": "2022-06-06T15:36:15.365487Z",
     "shell.execute_reply": "2022-06-06T15:36:15.364674Z"
    }
   },
   "outputs": [],
   "source": [
    "df = df.persist()             # persist is non-blocking, so it's ok"
   ]
  },
  {
   "cell_type": "code",
   "execution_count": 6,
   "metadata": {
    "execution": {
     "iopub.execute_input": "2022-06-06T15:36:15.369317Z",
     "iopub.status.busy": "2022-06-06T15:36:15.369092Z",
     "iopub.status.idle": "2022-06-06T15:36:15.379696Z",
     "shell.execute_reply": "2022-06-06T15:36:15.379061Z"
    }
   },
   "outputs": [],
   "source": [
    "total = df[['x', 'y']].sum()  # lazy computations are also ok"
   ]
  },
  {
   "cell_type": "code",
   "execution_count": 7,
   "metadata": {
    "execution": {
     "iopub.execute_input": "2022-06-06T15:36:15.385195Z",
     "iopub.status.busy": "2022-06-06T15:36:15.384693Z",
     "iopub.status.idle": "2022-06-06T15:36:15.388634Z",
     "shell.execute_reply": "2022-06-06T15:36:15.387945Z"
    }
   },
   "outputs": [],
   "source": [
    "# total.compute()             # but compute is bad, because compute blocks until done"
   ]
  },
  {
   "cell_type": "code",
   "execution_count": 8,
   "metadata": {
    "execution": {
     "iopub.execute_input": "2022-06-06T15:36:15.397230Z",
     "iopub.status.busy": "2022-06-06T15:36:15.397016Z",
     "iopub.status.idle": "2022-06-06T15:36:15.414854Z",
     "shell.execute_reply": "2022-06-06T15:36:15.414407Z"
    }
   },
   "outputs": [
    {
     "data": {
      "text/html": [
       "<strong>Future: finalize</strong>\n",
       "<span style=\"color: var(--jp-ui-font-color2, gray)\"> status: </span>\n",
       "\n",
       "\n",
       "<span style=\"color: var(--jp-error-color0, black)\">pending</span>,\n",
       "\n",
       "\n",
       "\n",
       "<span style=\"color: var(--jp-ui-font-color2, gray)\"> type:</span> NoneType,\n",
       "\n",
       "\n",
       "<span style=\"color: var(--jp-ui-font-color2, gray)\"> key:</span> finalize-cc08dd07235aa56c7c8339b7b0890e42"
      ],
      "text/plain": [
       "<Future: pending, key: finalize-cc08dd07235aa56c7c8339b7b0890e42>"
      ]
     },
     "execution_count": 8,
     "metadata": {},
     "output_type": "execute_result"
    }
   ],
   "source": [
    "future = client.compute(total)\n",
    "future"
   ]
  },
  {
   "cell_type": "code",
   "execution_count": 9,
   "metadata": {
    "execution": {
     "iopub.execute_input": "2022-06-06T15:36:15.420971Z",
     "iopub.status.busy": "2022-06-06T15:36:15.420520Z",
     "iopub.status.idle": "2022-06-06T15:36:16.290441Z",
     "shell.execute_reply": "2022-06-06T15:36:16.289486Z"
    }
   },
   "outputs": [
    {
     "data": {
      "text/plain": [
       "x    -146.681812\n",
       "y   -1575.755582\n",
       "dtype: float64"
      ]
     },
     "execution_count": 9,
     "metadata": {},
     "output_type": "execute_result"
    }
   ],
   "source": [
    "await future"
   ]
  },
  {
   "cell_type": "markdown",
   "metadata": {},
   "source": [
    "Within a script\n",
    "---------------\n",
    "\n",
    "Running async/await code in Jupyter is a bit atypical.  Jupyter already has an event loop running, so it's easy to use async/await syntax directly within it.  In a normal Python script this won't be the case.  Here is an example script that should run within a normal Python interpreter or as a script.\n",
    "\n",
    "```python\n",
    "import asyncio\n",
    "from dask.distributed import Client\n",
    "\n",
    "\n",
    "def inc(x: int) -> int:\n",
    "    return x + 1\n",
    "\n",
    "\n",
    "async def f():\n",
    "    async with Client(asynchronous=True) as client:\n",
    "        future = client.submit(inc, 10)\n",
    "        result = await future\n",
    "        print(result)\n",
    "\n",
    "\n",
    "if __name__ == '__main__':\n",
    "    asyncio.get_event_loop().run_until_complete(f())\n",
    "```"
   ]
  }
 ],
 "metadata": {
  "kernelspec": {
   "display_name": "Python 3 (ipykernel)",
   "language": "python",
   "name": "python3"
  },
  "language_info": {
   "codemirror_mode": {
    "name": "ipython",
    "version": 3
   },
   "file_extension": ".py",
   "mimetype": "text/x-python",
   "name": "python",
   "nbconvert_exporter": "python",
   "pygments_lexer": "ipython3",
   "version": "3.9.12"
  }
 },
 "nbformat": 4,
 "nbformat_minor": 4
}
