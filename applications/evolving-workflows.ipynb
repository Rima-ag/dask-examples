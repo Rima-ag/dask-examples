{
 "cells": [
  {
   "cell_type": "markdown",
   "metadata": {},
   "source": [
    "Handle Evolving Workflows\n",
    "=========================\n",
    "\n",
    "For some workflows we don't know the extent of the computation at the outset.  We need to do some computation in order to figure out the rest of the computation that we need to do.  The computation grows and evolves as we do more work.\n",
    "\n",
    "As an example, consider a situation where you need to read many files and then based on the contents of those files, fire off additional work.  You would like to read the files in parallel, and then within each file expose more parallelism.\n",
    "\n",
    "This example goes through three ways to handle this situation using [Dask Futures](https://docs.dask.org/en/latest/futures.html)\n",
    "\n",
    "1.  Using `as_completed`\n",
    "2.  Using `async/await`\n",
    "3.  Launching tasks from tasks\n",
    "\n",
    "But first, lets run our code sequentially."
   ]
  },
  {
   "cell_type": "markdown",
   "metadata": {},
   "source": [
    "0: Sequential code\n",
    "------------------"
   ]
  },
  {
   "cell_type": "code",
   "execution_count": 1,
   "metadata": {
    "execution": {
     "iopub.execute_input": "2022-06-06T20:36:03.079091Z",
     "iopub.status.busy": "2022-06-06T20:36:03.078859Z",
     "iopub.status.idle": "2022-06-06T20:36:03.099436Z",
     "shell.execute_reply": "2022-06-06T20:36:03.098684Z"
    }
   },
   "outputs": [
    {
     "data": {
      "text/plain": [
       "['file.0.txt', 'file.1.txt', 'file.2.txt']"
      ]
     },
     "execution_count": 1,
     "metadata": {},
     "output_type": "execute_result"
    }
   ],
   "source": [
    "filenames = [\"file.{}.txt\".format(i) for i in range(10)]\n",
    "\n",
    "filenames[:3]"
   ]
  },
  {
   "cell_type": "code",
   "execution_count": 2,
   "metadata": {
    "execution": {
     "iopub.execute_input": "2022-06-06T20:36:03.102275Z",
     "iopub.status.busy": "2022-06-06T20:36:03.102091Z",
     "iopub.status.idle": "2022-06-06T20:36:03.106981Z",
     "shell.execute_reply": "2022-06-06T20:36:03.106286Z"
    }
   },
   "outputs": [],
   "source": [
    "import random, time\n",
    "\n",
    "\n",
    "def parse_file(fn: str) -> list:\n",
    "    \"\"\" Returns a list work items of unknown length \"\"\"\n",
    "    time.sleep(random.random())\n",
    "    return [random.random() for _ in range(random.randint(1, 10))]\n",
    "\n",
    "def process_item(x: float):\n",
    "    \"\"\" Process each work item \"\"\"\n",
    "    time.sleep(random.random() / 4)\n",
    "    return x + 1"
   ]
  },
  {
   "cell_type": "code",
   "execution_count": 3,
   "metadata": {
    "execution": {
     "iopub.execute_input": "2022-06-06T20:36:03.109946Z",
     "iopub.status.busy": "2022-06-06T20:36:03.109498Z",
     "iopub.status.idle": "2022-06-06T20:36:11.048766Z",
     "shell.execute_reply": "2022-06-06T20:36:11.047795Z"
    }
   },
   "outputs": [
    {
     "name": "stdout",
     "output_type": "stream",
     "text": [
      "CPU times: user 6.45 ms, sys: 348 µs, total: 6.8 ms\n",
      "Wall time: 7.93 s\n"
     ]
    }
   ],
   "source": [
    "%%time\n",
    "\n",
    "# This takes around 10-20s\n",
    "\n",
    "results = []\n",
    "\n",
    "for fn in filenames:\n",
    "    L = parse_file(fn)\n",
    "    for x in L:\n",
    "        out = process_item(x)\n",
    "        results.append(out)"
   ]
  },
  {
   "cell_type": "markdown",
   "metadata": {},
   "source": [
    "Start Dask Client\n",
    "-----------------\n",
    "\n",
    "We'll need a Dask client in order to manage dynamic workloads"
   ]
  },
  {
   "cell_type": "code",
   "execution_count": 4,
   "metadata": {
    "execution": {
     "iopub.execute_input": "2022-06-06T20:36:11.052969Z",
     "iopub.status.busy": "2022-06-06T20:36:11.052369Z",
     "iopub.status.idle": "2022-06-06T20:36:12.082860Z",
     "shell.execute_reply": "2022-06-06T20:36:12.082420Z"
    }
   },
   "outputs": [
    {
     "data": {
      "text/html": [
       "<div>\n",
       "    <div style=\"width: 24px; height: 24px; background-color: #e1e1e1; border: 3px solid #9D9D9D; border-radius: 5px; position: absolute;\"> </div>\n",
       "    <div style=\"margin-left: 48px;\">\n",
       "        <h3 style=\"margin-bottom: 0px;\">Client</h3>\n",
       "        <p style=\"color: #9D9D9D; margin-bottom: 0px;\">Client-4d4ee06d-e5d8-11ec-9fcb-0022480a6e7a</p>\n",
       "        <table style=\"width: 100%; text-align: left;\">\n",
       "\n",
       "        <tr>\n",
       "        \n",
       "            <td style=\"text-align: left;\"><strong>Connection method:</strong> Cluster object</td>\n",
       "            <td style=\"text-align: left;\"><strong>Cluster type:</strong> distributed.LocalCluster</td>\n",
       "        \n",
       "        </tr>\n",
       "\n",
       "        \n",
       "            <tr>\n",
       "                <td style=\"text-align: left;\">\n",
       "                    <strong>Dashboard: </strong> <a href=\"http://10.1.0.157:8787/status\" target=\"_blank\">http://10.1.0.157:8787/status</a>\n",
       "                </td>\n",
       "                <td style=\"text-align: left;\"></td>\n",
       "            </tr>\n",
       "        \n",
       "\n",
       "        </table>\n",
       "\n",
       "        \n",
       "            <details>\n",
       "            <summary style=\"margin-bottom: 20px;\"><h3 style=\"display: inline;\">Cluster Info</h3></summary>\n",
       "            <div class=\"jp-RenderedHTMLCommon jp-RenderedHTML jp-mod-trusted jp-OutputArea-output\">\n",
       "    <div style=\"width: 24px; height: 24px; background-color: #e1e1e1; border: 3px solid #9D9D9D; border-radius: 5px; position: absolute;\">\n",
       "    </div>\n",
       "    <div style=\"margin-left: 48px;\">\n",
       "        <h3 style=\"margin-bottom: 0px; margin-top: 0px;\">LocalCluster</h3>\n",
       "        <p style=\"color: #9D9D9D; margin-bottom: 0px;\">2b5f8abd</p>\n",
       "        <table style=\"width: 100%; text-align: left;\">\n",
       "            <tr>\n",
       "                <td style=\"text-align: left;\">\n",
       "                    <strong>Dashboard:</strong> <a href=\"http://10.1.0.157:8787/status\" target=\"_blank\">http://10.1.0.157:8787/status</a>\n",
       "                </td>\n",
       "                <td style=\"text-align: left;\">\n",
       "                    <strong>Workers:</strong> 1\n",
       "                </td>\n",
       "            </tr>\n",
       "            <tr>\n",
       "                <td style=\"text-align: left;\">\n",
       "                    <strong>Total threads:</strong> 6\n",
       "                </td>\n",
       "                <td style=\"text-align: left;\">\n",
       "                    <strong>Total memory:</strong> 6.78 GiB\n",
       "                </td>\n",
       "            </tr>\n",
       "            \n",
       "            <tr>\n",
       "    <td style=\"text-align: left;\"><strong>Status:</strong> running</td>\n",
       "    <td style=\"text-align: left;\"><strong>Using processes:</strong> False</td>\n",
       "</tr>\n",
       "\n",
       "            \n",
       "        </table>\n",
       "\n",
       "        <details>\n",
       "            <summary style=\"margin-bottom: 20px;\">\n",
       "                <h3 style=\"display: inline;\">Scheduler Info</h3>\n",
       "            </summary>\n",
       "\n",
       "            <div style=\"\">\n",
       "    <div>\n",
       "        <div style=\"width: 24px; height: 24px; background-color: #FFF7E5; border: 3px solid #FF6132; border-radius: 5px; position: absolute;\"> </div>\n",
       "        <div style=\"margin-left: 48px;\">\n",
       "            <h3 style=\"margin-bottom: 0px;\">Scheduler</h3>\n",
       "            <p style=\"color: #9D9D9D; margin-bottom: 0px;\">Scheduler-44ed7f47-bcca-4a35-9e4e-a6ed19d22ecb</p>\n",
       "            <table style=\"width: 100%; text-align: left;\">\n",
       "                <tr>\n",
       "                    <td style=\"text-align: left;\">\n",
       "                        <strong>Comm:</strong> inproc://10.1.0.157/8139/1\n",
       "                    </td>\n",
       "                    <td style=\"text-align: left;\">\n",
       "                        <strong>Workers:</strong> 1\n",
       "                    </td>\n",
       "                </tr>\n",
       "                <tr>\n",
       "                    <td style=\"text-align: left;\">\n",
       "                        <strong>Dashboard:</strong> <a href=\"http://10.1.0.157:8787/status\" target=\"_blank\">http://10.1.0.157:8787/status</a>\n",
       "                    </td>\n",
       "                    <td style=\"text-align: left;\">\n",
       "                        <strong>Total threads:</strong> 6\n",
       "                    </td>\n",
       "                </tr>\n",
       "                <tr>\n",
       "                    <td style=\"text-align: left;\">\n",
       "                        <strong>Started:</strong> Just now\n",
       "                    </td>\n",
       "                    <td style=\"text-align: left;\">\n",
       "                        <strong>Total memory:</strong> 6.78 GiB\n",
       "                    </td>\n",
       "                </tr>\n",
       "            </table>\n",
       "        </div>\n",
       "    </div>\n",
       "\n",
       "    <details style=\"margin-left: 48px;\">\n",
       "        <summary style=\"margin-bottom: 20px;\">\n",
       "            <h3 style=\"display: inline;\">Workers</h3>\n",
       "        </summary>\n",
       "\n",
       "        \n",
       "        <div style=\"margin-bottom: 20px;\">\n",
       "            <div style=\"width: 24px; height: 24px; background-color: #DBF5FF; border: 3px solid #4CC9FF; border-radius: 5px; position: absolute;\"> </div>\n",
       "            <div style=\"margin-left: 48px;\">\n",
       "            <details>\n",
       "                <summary>\n",
       "                    <h4 style=\"margin-bottom: 0px; display: inline;\">Worker: 0</h4>\n",
       "                </summary>\n",
       "                <table style=\"width: 100%; text-align: left;\">\n",
       "                    <tr>\n",
       "                        <td style=\"text-align: left;\">\n",
       "                            <strong>Comm: </strong> inproc://10.1.0.157/8139/4\n",
       "                        </td>\n",
       "                        <td style=\"text-align: left;\">\n",
       "                            <strong>Total threads: </strong> 6\n",
       "                        </td>\n",
       "                    </tr>\n",
       "                    <tr>\n",
       "                        <td style=\"text-align: left;\">\n",
       "                            <strong>Dashboard: </strong> <a href=\"http://10.1.0.157:34581/status\" target=\"_blank\">http://10.1.0.157:34581/status</a>\n",
       "                        </td>\n",
       "                        <td style=\"text-align: left;\">\n",
       "                            <strong>Memory: </strong> 6.78 GiB\n",
       "                        </td>\n",
       "                    </tr>\n",
       "                    <tr>\n",
       "                        <td style=\"text-align: left;\">\n",
       "                            <strong>Nanny: </strong> None\n",
       "                        </td>\n",
       "                        <td style=\"text-align: left;\"></td>\n",
       "                    </tr>\n",
       "                    <tr>\n",
       "                        <td colspan=\"2\" style=\"text-align: left;\">\n",
       "                            <strong>Local directory: </strong> /home/runner/work/dask-examples/dask-examples/applications/dask-worker-space/worker-o51wbuom\n",
       "                        </td>\n",
       "                    </tr>\n",
       "\n",
       "                    \n",
       "\n",
       "                    \n",
       "\n",
       "                </table>\n",
       "            </details>\n",
       "            </div>\n",
       "        </div>\n",
       "        \n",
       "\n",
       "    </details>\n",
       "</div>\n",
       "\n",
       "        </details>\n",
       "    </div>\n",
       "</div>\n",
       "            </details>\n",
       "        \n",
       "\n",
       "    </div>\n",
       "</div>"
      ],
      "text/plain": [
       "<Client: 'inproc://10.1.0.157/8139/1' processes=1 threads=6, memory=6.78 GiB>"
      ]
     },
     "execution_count": 4,
     "metadata": {},
     "output_type": "execute_result"
    }
   ],
   "source": [
    "from dask.distributed import Client\n",
    "\n",
    "client = Client(processes=False, n_workers=1, threads_per_worker=6)\n",
    "client"
   ]
  },
  {
   "cell_type": "markdown",
   "metadata": {},
   "source": [
    "1: Use as_completed\n",
    "-------------------\n",
    "\n",
    "The [as_completed](https://docs.dask.org/en/latest/futures.html#distributed.as_completed) iterator lets us handle futures as they complete.  We can then submit more data on the fly.\n",
    "\n",
    "-   We submit a task for each of our filenames\n",
    "-   We also compute the length of each of the returned lists\n",
    "-   As those lengths return, we submit off a new task to get each item of that list.  We do this at higher priority, so that we process existing data before we collect new data.\n",
    "-   We wait on all of the returned results"
   ]
  },
  {
   "cell_type": "code",
   "execution_count": 5,
   "metadata": {
    "execution": {
     "iopub.execute_input": "2022-06-06T20:36:12.086016Z",
     "iopub.status.busy": "2022-06-06T20:36:12.085693Z",
     "iopub.status.idle": "2022-06-06T20:36:14.943099Z",
     "shell.execute_reply": "2022-06-06T20:36:14.942515Z"
    }
   },
   "outputs": [
    {
     "name": "stdout",
     "output_type": "stream",
     "text": [
      "CPU times: user 866 ms, sys: 126 ms, total: 992 ms\n",
      "Wall time: 2.85 s\n"
     ]
    },
    {
     "data": {
      "text/plain": [
       "[1.7977999275253325,\n",
       " 1.3397007813403028,\n",
       " 1.808042155283469,\n",
       " 1.5334102035572608,\n",
       " 1.4603079442686657,\n",
       " 1.2922083499070274,\n",
       " 1.9798512682916405,\n",
       " 1.5921352619890599,\n",
       " 1.8128257004345176,\n",
       " 1.5935193604646558,\n",
       " 1.2013738902024562,\n",
       " 1.5839986023334447,\n",
       " 1.7067393298544258,\n",
       " 1.6525515706808749,\n",
       " 1.858924845042469,\n",
       " 1.5506542452732646,\n",
       " 1.2139504622964439,\n",
       " 1.1231755251233961,\n",
       " 1.1027667808749624,\n",
       " 1.8125675611798133,\n",
       " 1.475552683576491,\n",
       " 1.0444124051940338,\n",
       " 1.1753189287339847,\n",
       " 1.2834155200535295,\n",
       " 1.9504609697506528,\n",
       " 1.5902036168830629,\n",
       " 1.5282883957333728,\n",
       " 1.9668254800706935,\n",
       " 1.0067846549840873,\n",
       " 1.1577123461115038,\n",
       " 1.7740310137815685,\n",
       " 1.2408877362118171,\n",
       " 1.5409037631662592,\n",
       " 1.6844022545018664,\n",
       " 1.8855731080451585,\n",
       " 1.3837231152243938,\n",
       " 1.6993856074064544,\n",
       " 1.1284873159372029,\n",
       " 1.5760020263186953,\n",
       " 1.7131428035013685,\n",
       " 1.7724853420634696,\n",
       " 1.2093194498350694,\n",
       " 1.7889735086432994,\n",
       " 1.5194280224467729,\n",
       " 1.6158750124977168,\n",
       " 1.0145704395926802,\n",
       " 1.9259280547871958,\n",
       " 1.10455266350064,\n",
       " 1.4499105572901707,\n",
       " 1.7530700767589853,\n",
       " 1.166865347427181,\n",
       " 1.152032025621639,\n",
       " 1.2096012684297686,\n",
       " 1.877822288563543,\n",
       " 1.6879531608119818,\n",
       " 1.388301523543098,\n",
       " 1.2434808641648014,\n",
       " 1.5365610355008856,\n",
       " 1.7464067599347395,\n",
       " 1.0446448124657834]"
      ]
     },
     "execution_count": 5,
     "metadata": {},
     "output_type": "execute_result"
    }
   ],
   "source": [
    "%%time\n",
    "\n",
    "from dask.distributed import as_completed\n",
    "import operator\n",
    "\n",
    "lists = client.map(parse_file, filenames, pure=False)\n",
    "lengths = client.map(len, lists)\n",
    "\n",
    "mapping = dict(zip(lengths, lists))\n",
    "\n",
    "futures = []\n",
    "\n",
    "for future in as_completed(lengths):\n",
    "    n = future.result()\n",
    "    L = mapping[future]\n",
    "    for i in range(n):\n",
    "        new = client.submit(operator.getitem, L, i, priority=1)\n",
    "        new = client.submit(process_item, new, priority=1)\n",
    "        futures.append(new)\n",
    "        \n",
    "client.gather(futures)"
   ]
  },
  {
   "cell_type": "markdown",
   "metadata": {},
   "source": [
    "2: Use async/await to handle single file processing locally\n",
    "-----------------------------------------------------------\n",
    "\n",
    "We can also handle the concurrency here within our local process.  This requires you to understand async/await syntax, but is generally powerful and arguably simpler than the `as_completed` approach above."
   ]
  },
  {
   "cell_type": "code",
   "execution_count": 6,
   "metadata": {
    "execution": {
     "iopub.execute_input": "2022-06-06T20:36:14.945906Z",
     "iopub.status.busy": "2022-06-06T20:36:14.945423Z",
     "iopub.status.idle": "2022-06-06T20:36:14.951364Z",
     "shell.execute_reply": "2022-06-06T20:36:14.950777Z"
    }
   },
   "outputs": [],
   "source": [
    "import asyncio\n",
    "\n",
    "async def f(fn):\n",
    "    \"\"\" Handle the lifecycle of a single file \"\"\"\n",
    "    future = client.submit(parse_file, fn, pure=False)\n",
    "    length_future = client.submit(len, future)\n",
    "    length = await length_future\n",
    "    \n",
    "    futures = [client.submit(operator.getitem, future, i, priority=10) \n",
    "               for i in range(length)]\n",
    "    futures = client.map(process_item, futures, priority=10)\n",
    "    return futures\n",
    "\n",
    "async def run_all(filenames):\n",
    "    list_of_list_of_futures = await asyncio.gather(*[f(fn) for fn in filenames])\n",
    "    futures = sum(list_of_list_of_futures, [])\n",
    "    return await client.gather(futures)\n"
   ]
  },
  {
   "cell_type": "markdown",
   "metadata": {},
   "source": [
    "We now need to run this function in the same event loop as our client is running.  If we had started our client asynchronously, then we could have done this:\n",
    "\n",
    "```python\n",
    "client = await Client(asynchronous=True)\n",
    "\n",
    "await run_all(filenames)\n",
    "```\n",
    "\n",
    "However, because we started our client without the `asynchronous=True` flag the event loop is actually running in a separate thread, so we'll have to ask the client to run this for us."
   ]
  },
  {
   "cell_type": "code",
   "execution_count": 7,
   "metadata": {
    "execution": {
     "iopub.execute_input": "2022-06-06T20:36:14.954434Z",
     "iopub.status.busy": "2022-06-06T20:36:14.953754Z",
     "iopub.status.idle": "2022-06-06T20:36:17.841945Z",
     "shell.execute_reply": "2022-06-06T20:36:17.840878Z"
    }
   },
   "outputs": [
    {
     "data": {
      "text/plain": [
       "[1.8761367755097407,\n",
       " 1.6156917220382632,\n",
       " 1.855814789804529,\n",
       " 1.5451775093259383,\n",
       " 1.2903805897173315,\n",
       " 1.0342363034032696,\n",
       " 1.9727406648040495,\n",
       " 1.2482909882483906,\n",
       " 1.652325013420771,\n",
       " 1.383785022053139,\n",
       " 1.5433591603001167,\n",
       " 1.8751425018376278,\n",
       " 1.3006772713438268,\n",
       " 1.6417390421101823,\n",
       " 1.258638735821592,\n",
       " 1.9604810169527198,\n",
       " 1.7779224536436675,\n",
       " 1.5175991023944093,\n",
       " 1.9809731640276427,\n",
       " 1.0257861192243443,\n",
       " 1.134075847751093,\n",
       " 1.727395676414353,\n",
       " 1.4556194900054034,\n",
       " 1.0550503560706095,\n",
       " 1.131345367709352,\n",
       " 1.2253588005367257,\n",
       " 1.922221976104276,\n",
       " 1.0821761917041832,\n",
       " 1.048427729851797,\n",
       " 1.7783211483485335,\n",
       " 1.3662547751751777,\n",
       " 1.2844046318234557,\n",
       " 1.222658008598474,\n",
       " 1.5744274727478311,\n",
       " 1.2183268800949194,\n",
       " 1.3701029862161147,\n",
       " 1.3680075630877644,\n",
       " 1.4345368722027183,\n",
       " 1.8790755455324437,\n",
       " 1.8711586853548245,\n",
       " 1.8105243962095852,\n",
       " 1.409495821510848,\n",
       " 1.2981191710391116,\n",
       " 1.0876341929032272,\n",
       " 1.2993667700949985,\n",
       " 1.065222296845762,\n",
       " 1.001927402221397,\n",
       " 1.3640687571312298,\n",
       " 1.8522511905329408,\n",
       " 1.2022486513990722,\n",
       " 1.2094222184687646,\n",
       " 1.7351961362390873,\n",
       " 1.3559095271633703,\n",
       " 1.039782987213267,\n",
       " 1.8414253062565573,\n",
       " 1.6793028304769186,\n",
       " 1.0437876788245788,\n",
       " 1.2771671289940678,\n",
       " 1.5104377658481773,\n",
       " 1.5452044110334033,\n",
       " 1.730225673696446,\n",
       " 1.5011505988071971,\n",
       " 1.8993869274307862,\n",
       " 1.4513915301313014,\n",
       " 1.1499692931271706,\n",
       " 1.6457399983066292,\n",
       " 1.9312546948303129,\n",
       " 1.8275812748342448,\n",
       " 1.81952640763322,\n",
       " 1.6945619676346455,\n",
       " 1.0830880792057136,\n",
       " 1.4681983219174,\n",
       " 1.0364747891202597,\n",
       " 1.259134811571113,\n",
       " 1.6323124371519269]"
      ]
     },
     "execution_count": 7,
     "metadata": {},
     "output_type": "execute_result"
    }
   ],
   "source": [
    "client.sync(run_all, filenames)"
   ]
  },
  {
   "cell_type": "markdown",
   "metadata": {},
   "source": [
    "3: Submit tasks from tasks\n",
    "--------------------------\n",
    "\n",
    "We can also submit tasks that themselves submit more tasks.  See [documentation here](https://docs.dask.org/en/latest/futures.html#submit-tasks-from-tasks)."
   ]
  },
  {
   "cell_type": "code",
   "execution_count": 8,
   "metadata": {
    "execution": {
     "iopub.execute_input": "2022-06-06T20:36:17.845171Z",
     "iopub.status.busy": "2022-06-06T20:36:17.844733Z",
     "iopub.status.idle": "2022-06-06T20:36:20.019717Z",
     "shell.execute_reply": "2022-06-06T20:36:20.018244Z"
    }
   },
   "outputs": [
    {
     "name": "stdout",
     "output_type": "stream",
     "text": [
      "CPU times: user 374 ms, sys: 15.4 ms, total: 389 ms\n",
      "Wall time: 2.17 s\n"
     ]
    }
   ],
   "source": [
    "%%time\n",
    "\n",
    "from dask.distributed import get_client, secede, rejoin\n",
    "\n",
    "def f(fn):\n",
    "    L = parse_file(fn)\n",
    "    client = get_client()\n",
    "    \n",
    "    futures = client.map(process_item, L, priority=10)\n",
    "    secede()\n",
    "    results = client.gather(futures)\n",
    "    rejoin()\n",
    "    return results\n",
    "\n",
    "futures = client.map(f, filenames, pure=False)\n",
    "results = client.gather(futures)"
   ]
  }
 ],
 "metadata": {
  "kernelspec": {
   "display_name": "Python 3 (ipykernel)",
   "language": "python",
   "name": "python3"
  },
  "language_info": {
   "codemirror_mode": {
    "name": "ipython",
    "version": 3
   },
   "file_extension": ".py",
   "mimetype": "text/x-python",
   "name": "python",
   "nbconvert_exporter": "python",
   "pygments_lexer": "ipython3",
   "version": "3.9.12"
  }
 },
 "nbformat": 4,
 "nbformat_minor": 4
}
