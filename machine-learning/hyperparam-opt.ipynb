{
 "cells": [
  {
   "cell_type": "markdown",
   "metadata": {},
   "source": [
    "# Hyperparameter optimization with Dask\n"
   ]
  },
  {
   "cell_type": "markdown",
   "metadata": {},
   "source": [
    "Every machine learning model has some values that are specified before training begins. These values help adapt the model to the data but must be given before any training data is seen. For example, this might be `penalty` or `C` in Scikit-learn's [LogisiticRegression]. These values that come before any training data and are called \"hyperparameters\". Typical usage looks something like:\n",
    "\n",
    "``` python\n",
    "from sklearn.linear_model import LogisiticRegression\n",
    "from sklearn.datasets import make_classification\n",
    "\n",
    "X, y = make_classification()\n",
    "est = LogisiticRegression(C=10, penalty=\"l2\")\n",
    "est.fit(X, y)\n",
    "```\n",
    "\n",
    "These hyperparameters influence the quality of the prediction. For example, if `C` is too small in the example above, the output of the estimator will not fit the data well.\n",
    "\n",
    "Determining the values of these hyperparameters is difficult. In fact, Scikit-learn has an entire documentation page on finding the best values: https://scikit-learn.org/stable/modules/grid_search.html\n",
    "\n",
    "[LogisiticRegression]:https://scikit-learn.org/stable/modules/generated/sklearn.linear_model.LogisticRegression.html\n"
   ]
  },
  {
   "cell_type": "markdown",
   "metadata": {},
   "source": [
    "Dask enables some new techniques and opportunities for hyperparameter optimization. One of these opportunities involves stopping training early to limit computation. Naturally, this requires some way to stop and restart training (`partial_fit` or `warm_start`  in Scikit-learn parlance).\n",
    "\n",
    "This is especially useful when the search is complex and has many search parameters. Good examples are most deep learning models, which has specialized algorithms  for  handling  many  data  but  have  difficulty  providing  basic  hyperparameters (e.g., \"learning rate\", \"momentum\" or \"weight decay\").\n"
   ]
  },
  {
   "cell_type": "markdown",
   "metadata": {},
   "source": [
    "**This notebook will walk through**\n",
    "\n",
    "* setting up a realistic example\n",
    "* how to use `HyperbandSearchCV`, including\n",
    "    * understanding the input parameters to `HyperbandSearchCV`\n",
    "    * running the hyperparameter optimization\n",
    "    * how to access informantion from `HyperbandSearchCV`\n",
    "    \n",
    "This notebook will specifically *not* show a performance comparison motivating `HyperbandSearchCV` use. `HyperbandSearchCV` finds high scores with minimal training; however, this is a tutorial on how to *use* it. All performance comparisons are relegated to section [*Learn more*](#Learn-more)."
   ]
  },
  {
   "cell_type": "code",
   "execution_count": 1,
   "metadata": {
    "execution": {
     "iopub.execute_input": "2022-06-16T17:50:47.674917Z",
     "iopub.status.busy": "2022-06-16T17:50:47.674561Z",
     "iopub.status.idle": "2022-06-16T17:50:48.360374Z",
     "shell.execute_reply": "2022-06-16T17:50:48.359653Z"
    }
   },
   "outputs": [],
   "source": [
    "%matplotlib inline"
   ]
  },
  {
   "cell_type": "markdown",
   "metadata": {},
   "source": [
    "## Setup Dask"
   ]
  },
  {
   "cell_type": "code",
   "execution_count": 2,
   "metadata": {
    "execution": {
     "iopub.execute_input": "2022-06-16T17:50:48.363983Z",
     "iopub.status.busy": "2022-06-16T17:50:48.363797Z",
     "iopub.status.idle": "2022-06-16T17:50:49.375492Z",
     "shell.execute_reply": "2022-06-16T17:50:49.374897Z"
    }
   },
   "outputs": [
    {
     "data": {
      "text/html": [
       "<div>\n",
       "    <div style=\"width: 24px; height: 24px; background-color: #e1e1e1; border: 3px solid #9D9D9D; border-radius: 5px; position: absolute;\"> </div>\n",
       "    <div style=\"margin-left: 48px;\">\n",
       "        <h3 style=\"margin-bottom: 0px;\">Client</h3>\n",
       "        <p style=\"color: #9D9D9D; margin-bottom: 0px;\">Client-db06a055-ed9c-11ec-a49a-000d3a01c323</p>\n",
       "        <table style=\"width: 100%; text-align: left;\">\n",
       "\n",
       "        <tr>\n",
       "        \n",
       "            <td style=\"text-align: left;\"><strong>Connection method:</strong> Cluster object</td>\n",
       "            <td style=\"text-align: left;\"><strong>Cluster type:</strong> distributed.LocalCluster</td>\n",
       "        \n",
       "        </tr>\n",
       "\n",
       "        \n",
       "            <tr>\n",
       "                <td style=\"text-align: left;\">\n",
       "                    <strong>Dashboard: </strong> <a href=\"http://10.1.1.163:8787/status\" target=\"_blank\">http://10.1.1.163:8787/status</a>\n",
       "                </td>\n",
       "                <td style=\"text-align: left;\"></td>\n",
       "            </tr>\n",
       "        \n",
       "\n",
       "        </table>\n",
       "\n",
       "        \n",
       "            <details>\n",
       "            <summary style=\"margin-bottom: 20px;\"><h3 style=\"display: inline;\">Cluster Info</h3></summary>\n",
       "            <div class=\"jp-RenderedHTMLCommon jp-RenderedHTML jp-mod-trusted jp-OutputArea-output\">\n",
       "    <div style=\"width: 24px; height: 24px; background-color: #e1e1e1; border: 3px solid #9D9D9D; border-radius: 5px; position: absolute;\">\n",
       "    </div>\n",
       "    <div style=\"margin-left: 48px;\">\n",
       "        <h3 style=\"margin-bottom: 0px; margin-top: 0px;\">LocalCluster</h3>\n",
       "        <p style=\"color: #9D9D9D; margin-bottom: 0px;\">09fe5a0d</p>\n",
       "        <table style=\"width: 100%; text-align: left;\">\n",
       "            <tr>\n",
       "                <td style=\"text-align: left;\">\n",
       "                    <strong>Dashboard:</strong> <a href=\"http://10.1.1.163:8787/status\" target=\"_blank\">http://10.1.1.163:8787/status</a>\n",
       "                </td>\n",
       "                <td style=\"text-align: left;\">\n",
       "                    <strong>Workers:</strong> 1\n",
       "                </td>\n",
       "            </tr>\n",
       "            <tr>\n",
       "                <td style=\"text-align: left;\">\n",
       "                    <strong>Total threads:</strong> 4\n",
       "                </td>\n",
       "                <td style=\"text-align: left;\">\n",
       "                    <strong>Total memory:</strong> 1.86 GiB\n",
       "                </td>\n",
       "            </tr>\n",
       "            \n",
       "            <tr>\n",
       "    <td style=\"text-align: left;\"><strong>Status:</strong> running</td>\n",
       "    <td style=\"text-align: left;\"><strong>Using processes:</strong> False</td>\n",
       "</tr>\n",
       "\n",
       "            \n",
       "        </table>\n",
       "\n",
       "        <details>\n",
       "            <summary style=\"margin-bottom: 20px;\">\n",
       "                <h3 style=\"display: inline;\">Scheduler Info</h3>\n",
       "            </summary>\n",
       "\n",
       "            <div style=\"\">\n",
       "    <div>\n",
       "        <div style=\"width: 24px; height: 24px; background-color: #FFF7E5; border: 3px solid #FF6132; border-radius: 5px; position: absolute;\"> </div>\n",
       "        <div style=\"margin-left: 48px;\">\n",
       "            <h3 style=\"margin-bottom: 0px;\">Scheduler</h3>\n",
       "            <p style=\"color: #9D9D9D; margin-bottom: 0px;\">Scheduler-61b96b58-c60f-464e-94a8-b1cf5d37d088</p>\n",
       "            <table style=\"width: 100%; text-align: left;\">\n",
       "                <tr>\n",
       "                    <td style=\"text-align: left;\">\n",
       "                        <strong>Comm:</strong> inproc://10.1.1.163/9370/1\n",
       "                    </td>\n",
       "                    <td style=\"text-align: left;\">\n",
       "                        <strong>Workers:</strong> 1\n",
       "                    </td>\n",
       "                </tr>\n",
       "                <tr>\n",
       "                    <td style=\"text-align: left;\">\n",
       "                        <strong>Dashboard:</strong> <a href=\"http://10.1.1.163:8787/status\" target=\"_blank\">http://10.1.1.163:8787/status</a>\n",
       "                    </td>\n",
       "                    <td style=\"text-align: left;\">\n",
       "                        <strong>Total threads:</strong> 4\n",
       "                    </td>\n",
       "                </tr>\n",
       "                <tr>\n",
       "                    <td style=\"text-align: left;\">\n",
       "                        <strong>Started:</strong> Just now\n",
       "                    </td>\n",
       "                    <td style=\"text-align: left;\">\n",
       "                        <strong>Total memory:</strong> 1.86 GiB\n",
       "                    </td>\n",
       "                </tr>\n",
       "            </table>\n",
       "        </div>\n",
       "    </div>\n",
       "\n",
       "    <details style=\"margin-left: 48px;\">\n",
       "        <summary style=\"margin-bottom: 20px;\">\n",
       "            <h3 style=\"display: inline;\">Workers</h3>\n",
       "        </summary>\n",
       "\n",
       "        \n",
       "        <div style=\"margin-bottom: 20px;\">\n",
       "            <div style=\"width: 24px; height: 24px; background-color: #DBF5FF; border: 3px solid #4CC9FF; border-radius: 5px; position: absolute;\"> </div>\n",
       "            <div style=\"margin-left: 48px;\">\n",
       "            <details>\n",
       "                <summary>\n",
       "                    <h4 style=\"margin-bottom: 0px; display: inline;\">Worker: 0</h4>\n",
       "                </summary>\n",
       "                <table style=\"width: 100%; text-align: left;\">\n",
       "                    <tr>\n",
       "                        <td style=\"text-align: left;\">\n",
       "                            <strong>Comm: </strong> inproc://10.1.1.163/9370/4\n",
       "                        </td>\n",
       "                        <td style=\"text-align: left;\">\n",
       "                            <strong>Total threads: </strong> 4\n",
       "                        </td>\n",
       "                    </tr>\n",
       "                    <tr>\n",
       "                        <td style=\"text-align: left;\">\n",
       "                            <strong>Dashboard: </strong> <a href=\"http://10.1.1.163:40439/status\" target=\"_blank\">http://10.1.1.163:40439/status</a>\n",
       "                        </td>\n",
       "                        <td style=\"text-align: left;\">\n",
       "                            <strong>Memory: </strong> 1.86 GiB\n",
       "                        </td>\n",
       "                    </tr>\n",
       "                    <tr>\n",
       "                        <td style=\"text-align: left;\">\n",
       "                            <strong>Nanny: </strong> None\n",
       "                        </td>\n",
       "                        <td style=\"text-align: left;\"></td>\n",
       "                    </tr>\n",
       "                    <tr>\n",
       "                        <td colspan=\"2\" style=\"text-align: left;\">\n",
       "                            <strong>Local directory: </strong> /home/runner/work/dask-examples/dask-examples/machine-learning/dask-worker-space/worker-y2rm2a3j\n",
       "                        </td>\n",
       "                    </tr>\n",
       "\n",
       "                    \n",
       "\n",
       "                    \n",
       "\n",
       "                </table>\n",
       "            </details>\n",
       "            </div>\n",
       "        </div>\n",
       "        \n",
       "\n",
       "    </details>\n",
       "</div>\n",
       "\n",
       "        </details>\n",
       "    </div>\n",
       "</div>\n",
       "            </details>\n",
       "        \n",
       "\n",
       "    </div>\n",
       "</div>"
      ],
      "text/plain": [
       "<Client: 'inproc://10.1.1.163/9370/1' processes=1 threads=4, memory=1.86 GiB>"
      ]
     },
     "execution_count": 2,
     "metadata": {},
     "output_type": "execute_result"
    }
   ],
   "source": [
    "from distributed import Client\n",
    "client = Client(processes=False, threads_per_worker=4,\n",
    "                n_workers=1, memory_limit='2GB')\n",
    "client"
   ]
  },
  {
   "cell_type": "markdown",
   "metadata": {},
   "source": [
    "## Create Data"
   ]
  },
  {
   "cell_type": "code",
   "execution_count": 3,
   "metadata": {
    "execution": {
     "iopub.execute_input": "2022-06-16T17:50:49.379278Z",
     "iopub.status.busy": "2022-06-16T17:50:49.378790Z",
     "iopub.status.idle": "2022-06-16T17:50:50.167740Z",
     "shell.execute_reply": "2022-06-16T17:50:50.167045Z"
    }
   },
   "outputs": [
    {
     "data": {
      "image/png": "[encoded data removed]",
      "text/plain": [
       "<Figure size 432x288 with 2 Axes>"
      ]
     },
     "metadata": {
      "needs_background": "light"
     },
     "output_type": "display_data"
    }
   ],
   "source": [
    "from sklearn.datasets import make_circles\n",
    "import numpy as np\n",
    "import pandas as pd\n",
    "\n",
    "X, y = make_circles(n_samples=30_000, random_state=0, noise=0.09)\n",
    "\n",
    "pd.DataFrame({0: X[:, 0], 1: X[:, 1], \"class\": y}).sample(4_000).plot.scatter(\n",
    "    x=0, y=1, alpha=0.2, c=\"class\", cmap=\"bwr\"\n",
    ");"
   ]
  },
  {
   "cell_type": "markdown",
   "metadata": {},
   "source": [
    "### Add random dimensions"
   ]
  },
  {
   "cell_type": "code",
   "execution_count": 4,
   "metadata": {
    "execution": {
     "iopub.execute_input": "2022-06-16T17:50:50.171179Z",
     "iopub.status.busy": "2022-06-16T17:50:50.170838Z",
     "iopub.status.idle": "2022-06-16T17:50:50.179551Z",
     "shell.execute_reply": "2022-06-16T17:50:50.178960Z"
    }
   },
   "outputs": [
    {
     "data": {
      "text/plain": [
       "(30000, 6)"
      ]
     },
     "execution_count": 4,
     "metadata": {},
     "output_type": "execute_result"
    }
   ],
   "source": [
    "from sklearn.utils import check_random_state\n",
    "\n",
    "rng = check_random_state(42)\n",
    "random_feats = rng.uniform(-1, 1, size=(X.shape[0], 4))\n",
    "X = np.hstack((X, random_feats))\n",
    "X.shape"
   ]
  },
  {
   "cell_type": "markdown",
   "metadata": {},
   "source": [
    "### Split and scale data"
   ]
  },
  {
   "cell_type": "code",
   "execution_count": 5,
   "metadata": {
    "execution": {
     "iopub.execute_input": "2022-06-16T17:50:50.182254Z",
     "iopub.status.busy": "2022-06-16T17:50:50.181857Z",
     "iopub.status.idle": "2022-06-16T17:50:50.199265Z",
     "shell.execute_reply": "2022-06-16T17:50:50.198668Z"
    }
   },
   "outputs": [],
   "source": [
    "from sklearn.model_selection import train_test_split\n",
    "X_train, X_test, y_train, y_test = train_test_split(X, y, test_size=5_000, random_state=42)"
   ]
  },
  {
   "cell_type": "code",
   "execution_count": 6,
   "metadata": {
    "execution": {
     "iopub.execute_input": "2022-06-16T17:50:50.202158Z",
     "iopub.status.busy": "2022-06-16T17:50:50.201648Z",
     "iopub.status.idle": "2022-06-16T17:50:50.211082Z",
     "shell.execute_reply": "2022-06-16T17:50:50.210573Z"
    }
   },
   "outputs": [],
   "source": [
    "from sklearn.preprocessing import StandardScaler\n",
    "from sklearn.model_selection import train_test_split\n",
    "scaler = StandardScaler().fit(X_train)\n",
    "\n",
    "X_train = scaler.transform(X_train)\n",
    "X_test = scaler.transform(X_test)"
   ]
  },
  {
   "cell_type": "code",
   "execution_count": 7,
   "metadata": {
    "execution": {
     "iopub.execute_input": "2022-06-16T17:50:50.213897Z",
     "iopub.status.busy": "2022-06-16T17:50:50.213498Z",
     "iopub.status.idle": "2022-06-16T17:50:50.217902Z",
     "shell.execute_reply": "2022-06-16T17:50:50.217506Z"
    }
   },
   "outputs": [
    {
     "name": "stdout",
     "output_type": "stream",
     "text": [
      "dataset = train\n",
      "shape = (25000, 6)\n",
      "bytes = 1.14 MiB\n",
      "--------------------\n",
      "dataset = test\n",
      "shape = (5000, 6)\n",
      "bytes = 234.38 kiB\n",
      "--------------------\n"
     ]
    }
   ],
   "source": [
    "from dask.utils import format_bytes\n",
    "\n",
    "for name, X in [(\"train\", X_train), (\"test\", X_test)]:\n",
    "    print(\"dataset =\", name)\n",
    "    print(\"shape =\", X.shape)\n",
    "    print(\"bytes =\", format_bytes(X.nbytes))\n",
    "    print(\"-\" * 20)"
   ]
  },
  {
   "cell_type": "markdown",
   "metadata": {},
   "source": [
    "Now we have our train and test sets."
   ]
  },
  {
   "cell_type": "markdown",
   "metadata": {},
   "source": [
    "## Create model and search space"
   ]
  },
  {
   "cell_type": "markdown",
   "metadata": {},
   "source": [
    "Let's use Scikit-learn's MLPClassifier as our model (for convenience). Let's use this model with 24 neurons and tune some of the other basic hyperparameters.\n"
   ]
  },
  {
   "cell_type": "code",
   "execution_count": 8,
   "metadata": {
    "execution": {
     "iopub.execute_input": "2022-06-16T17:50:50.220592Z",
     "iopub.status.busy": "2022-06-16T17:50:50.220224Z",
     "iopub.status.idle": "2022-06-16T17:50:50.226768Z",
     "shell.execute_reply": "2022-06-16T17:50:50.226148Z"
    }
   },
   "outputs": [],
   "source": [
    "import numpy as np\n",
    "from sklearn.neural_network import MLPClassifier\n",
    "\n",
    "model = MLPClassifier()"
   ]
  },
  {
   "cell_type": "markdown",
   "metadata": {},
   "source": [
    "Deep learning libraries can be used as well. In particular, [PyTorch]'s Scikit-Learn wrapper [Skorch] works well with `HyperbandSearchCV`.\n",
    "\n",
    "[PyTorch]:https://pytorch.org/\n",
    "[Skorch]:https://skorch.readthedocs.io/en/stable/"
   ]
  },
  {
   "cell_type": "code",
   "execution_count": 9,
   "metadata": {
    "execution": {
     "iopub.execute_input": "2022-06-16T17:50:50.229781Z",
     "iopub.status.busy": "2022-06-16T17:50:50.229327Z",
     "iopub.status.idle": "2022-06-16T17:50:50.234576Z",
     "shell.execute_reply": "2022-06-16T17:50:50.233966Z"
    }
   },
   "outputs": [],
   "source": [
    "params = {\n",
    "    \"hidden_layer_sizes\": [\n",
    "        (24, ),\n",
    "        (12, 12),\n",
    "        (6, 6, 6, 6),\n",
    "        (4, 4, 4, 4, 4, 4),\n",
    "        (12, 6, 3, 3),\n",
    "    ],\n",
    "    \"activation\": [\"relu\", \"logistic\", \"tanh\"],\n",
    "    \"alpha\": np.logspace(-6, -3, num=1000),  # cnts\n",
    "    \"batch_size\": [16, 32, 64, 128, 256, 512],\n",
    "}"
   ]
  },
  {
   "cell_type": "markdown",
   "metadata": {},
   "source": [
    "## Hyperparameter optimization"
   ]
  },
  {
   "cell_type": "markdown",
   "metadata": {},
   "source": [
    "`HyperbandSearchCV` is Dask-ML's meta-estimator to find the best hyperparameters. It can be used as an alternative to `RandomizedSearchCV` to find similar hyper-parameters in less time by not wasting time on hyper-parameters that are not promising. Specifically, it is almost guaranteed that it will find high performing models with minimal training.\n",
    "\n",
    "This section will focus on\n",
    "\n",
    "1. Understanding the input parameters to `HyperbandSearchCV`\n",
    "2. Using `HyperbandSearchCV` to find the best hyperparameters\n",
    "3. Seeing other use cases of `HyperbandSearchCV`"
   ]
  },
  {
   "cell_type": "code",
   "execution_count": 10,
   "metadata": {
    "execution": {
     "iopub.execute_input": "2022-06-16T17:50:50.237464Z",
     "iopub.status.busy": "2022-06-16T17:50:50.237039Z",
     "iopub.status.idle": "2022-06-16T17:50:50.455000Z",
     "shell.execute_reply": "2022-06-16T17:50:50.454337Z"
    }
   },
   "outputs": [],
   "source": [
    "from dask_ml.model_selection import HyperbandSearchCV"
   ]
  },
  {
   "cell_type": "markdown",
   "metadata": {},
   "source": [
    "## Determining input parameters"
   ]
  },
  {
   "cell_type": "markdown",
   "metadata": {},
   "source": [
    "A rule-of-thumb to determine `HyperbandSearchCV`'s input parameters requires knowing:\n",
    "\n",
    "1. the number of examples the longest trained model will see\n",
    "2. the number of hyperparameters to evaluate"
   ]
  },
  {
   "cell_type": "markdown",
   "metadata": {},
   "source": [
    "Let's write down what these should be for this example:"
   ]
  },
  {
   "cell_type": "code",
   "execution_count": 11,
   "metadata": {
    "execution": {
     "iopub.execute_input": "2022-06-16T17:50:50.458510Z",
     "iopub.status.busy": "2022-06-16T17:50:50.457978Z",
     "iopub.status.idle": "2022-06-16T17:50:50.463047Z",
     "shell.execute_reply": "2022-06-16T17:50:50.461680Z"
    }
   },
   "outputs": [],
   "source": [
    "# For quick response\n",
    "n_examples = 4 * len(X_train)\n",
    "n_params = 8\n",
    "\n",
    "# In practice, HyperbandSearchCV is most useful for longer searches\n",
    "# n_examples = 15 * len(X_train)\n",
    "# n_params = 15"
   ]
  },
  {
   "cell_type": "markdown",
   "metadata": {},
   "source": [
    "In this, models that are trained the longest will see `n_examples` examples. This is how much data is required, normally set be the problem difficulty. Simple problems may only need 10 passes through the dataset; more complex problems may need 100 passes through the dataset.\n",
    "\n",
    "There will be `n_params` parameters sampled so `n_params` models will be evaluated. Models with low scores will be terminated before they see `n_examples` examples. This helps perserve computation."
   ]
  },
  {
   "cell_type": "markdown",
   "metadata": {},
   "source": [
    "How can we use these values to determine the inputs for `HyperbandSearchCV`?"
   ]
  },
  {
   "cell_type": "code",
   "execution_count": 12,
   "metadata": {
    "execution": {
     "iopub.execute_input": "2022-06-16T17:50:50.466070Z",
     "iopub.status.busy": "2022-06-16T17:50:50.465616Z",
     "iopub.status.idle": "2022-06-16T17:50:50.470003Z",
     "shell.execute_reply": "2022-06-16T17:50:50.469420Z"
    }
   },
   "outputs": [
    {
     "data": {
      "text/plain": [
       "(8, 12500)"
      ]
     },
     "execution_count": 12,
     "metadata": {},
     "output_type": "execute_result"
    }
   ],
   "source": [
    "max_iter = n_params  # number of times partial_fit will be called\n",
    "chunks = n_examples // n_params  # number of examples each call sees\n",
    "\n",
    "max_iter, chunks"
   ]
  },
  {
   "cell_type": "markdown",
   "metadata": {},
   "source": [
    "This means that the longest trained estimator will see about `n_examples` examples (specifically `n_params * (n_examples // n_params`)."
   ]
  },
  {
   "cell_type": "markdown",
   "metadata": {},
   "source": [
    "## Applying input parameters"
   ]
  },
  {
   "cell_type": "markdown",
   "metadata": {},
   "source": [
    "Let's create a Dask array with this chunk size:"
   ]
  },
  {
   "cell_type": "code",
   "execution_count": 13,
   "metadata": {
    "execution": {
     "iopub.execute_input": "2022-06-16T17:50:50.473136Z",
     "iopub.status.busy": "2022-06-16T17:50:50.472681Z",
     "iopub.status.idle": "2022-06-16T17:50:50.484230Z",
     "shell.execute_reply": "2022-06-16T17:50:50.483624Z"
    }
   },
   "outputs": [
    {
     "data": {
      "text/html": [
       "<table>\n",
       "    <tr>\n",
       "        <td>\n",
       "            <table>\n",
       "                <thead>\n",
       "                    <tr>\n",
       "                        <td> </td>\n",
       "                        <th> Array </th>\n",
       "                        <th> Chunk </th>\n",
       "                    </tr>\n",
       "                </thead>\n",
       "                <tbody>\n",
       "                    \n",
       "                    <tr>\n",
       "                        <th> Bytes </th>\n",
       "                        <td> 1.14 MiB </td>\n",
       "                        <td> 585.94 kiB </td>\n",
       "                    </tr>\n",
       "                    \n",
       "                    <tr>\n",
       "                        <th> Shape </th>\n",
       "                        <td> (25000, 6) </td>\n",
       "                        <td> (12500, 6) </td>\n",
       "                    </tr>\n",
       "                    <tr>\n",
       "                        <th> Count </th>\n",
       "                        <td> 2 Tasks </td>\n",
       "                        <td> 2 Chunks </td>\n",
       "                    </tr>\n",
       "                    <tr>\n",
       "                    <th> Type </th>\n",
       "                    <td> float64 </td>\n",
       "                    <td> numpy.ndarray </td>\n",
       "                    </tr>\n",
       "                </tbody>\n",
       "            </table>\n",
       "        </td>\n",
       "        <td>\n",
       "        <svg width=\"75\" height=\"170\" style=\"stroke:rgb(0,0,0);stroke-width:1\" >\n",
       "\n",
       "  <!-- Horizontal lines -->\n",
       "  <line x1=\"0\" y1=\"0\" x2=\"25\" y2=\"0\" style=\"stroke-width:2\" />\n",
       "  <line x1=\"0\" y1=\"60\" x2=\"25\" y2=\"60\" />\n",
       "  <line x1=\"0\" y1=\"120\" x2=\"25\" y2=\"120\" style=\"stroke-width:2\" />\n",
       "\n",
       "  <!-- Vertical lines -->\n",
       "  <line x1=\"0\" y1=\"0\" x2=\"0\" y2=\"120\" style=\"stroke-width:2\" />\n",
       "  <line x1=\"25\" y1=\"0\" x2=\"25\" y2=\"120\" style=\"stroke-width:2\" />\n",
       "\n",
       "  <!-- Colored Rectangle -->\n",
       "  <polygon points=\"0.0,0.0 25.412616514582485,0.0 25.412616514582485,120.0 0.0,120.0\" style=\"fill:#ECB172A0;stroke-width:0\"/>\n",
       "\n",
       "  <!-- Text -->\n",
       "  <text x=\"12.706308\" y=\"140.000000\" font-size=\"1.0rem\" font-weight=\"100\" text-anchor=\"middle\" >6</text>\n",
       "  <text x=\"45.412617\" y=\"60.000000\" font-size=\"1.0rem\" font-weight=\"100\" text-anchor=\"middle\" transform=\"rotate(-90,45.412617,60.000000)\">25000</text>\n",
       "</svg>\n",
       "        </td>\n",
       "    </tr>\n",
       "</table>"
      ],
      "text/plain": [
       "dask.array<array, shape=(25000, 6), dtype=float64, chunksize=(12500, 6), chunktype=numpy.ndarray>"
      ]
     },
     "execution_count": 13,
     "metadata": {},
     "output_type": "execute_result"
    }
   ],
   "source": [
    "import dask.array as da\n",
    "X_train2 = da.from_array(X_train, chunks=chunks)\n",
    "y_train2 = da.from_array(y_train, chunks=chunks)\n",
    "X_train2"
   ]
  },
  {
   "cell_type": "markdown",
   "metadata": {},
   "source": [
    "Each `partial_fit` call will receive one chunk."
   ]
  },
  {
   "cell_type": "markdown",
   "metadata": {},
   "source": [
    "That means the number of exmaples in each chunk should be (about) the same, and `n_examples` and `n_params` should be chosen to make that happen. (e.g., with 100 examples, shoot for chunks with `(33, 33, 34)` examples not `(48, 48, 4)` examples)."
   ]
  },
  {
   "cell_type": "markdown",
   "metadata": {},
   "source": [
    "Now let's use `max_iter` to create our `HyperbandSearchCV` object:"
   ]
  },
  {
   "cell_type": "code",
   "execution_count": 14,
   "metadata": {
    "execution": {
     "iopub.execute_input": "2022-06-16T17:50:50.487097Z",
     "iopub.status.busy": "2022-06-16T17:50:50.486544Z",
     "iopub.status.idle": "2022-06-16T17:50:50.490354Z",
     "shell.execute_reply": "2022-06-16T17:50:50.489586Z"
    }
   },
   "outputs": [],
   "source": [
    "search = HyperbandSearchCV(\n",
    "    model,\n",
    "    params,\n",
    "    max_iter=max_iter,\n",
    "    patience=True,\n",
    ")"
   ]
  },
  {
   "cell_type": "markdown",
   "metadata": {},
   "source": [
    "## How much computation will be performed?"
   ]
  },
  {
   "cell_type": "markdown",
   "metadata": {},
   "source": [
    "It isn't clear how to determine how much computation is done from `max_iter` and `chunks`. Luckily, `HyperbandSearchCV` has a `metadata` attribute to determine this beforehand:"
   ]
  },
  {
   "cell_type": "code",
   "execution_count": 15,
   "metadata": {
    "execution": {
     "iopub.execute_input": "2022-06-16T17:50:50.493038Z",
     "iopub.status.busy": "2022-06-16T17:50:50.492602Z",
     "iopub.status.idle": "2022-06-16T17:50:50.497168Z",
     "shell.execute_reply": "2022-06-16T17:50:50.496589Z"
    }
   },
   "outputs": [
    {
     "data": {
      "text/plain": [
       "26"
      ]
     },
     "execution_count": 15,
     "metadata": {},
     "output_type": "execute_result"
    }
   ],
   "source": [
    "search.metadata[\"partial_fit_calls\"]"
   ]
  },
  {
   "cell_type": "markdown",
   "metadata": {},
   "source": [
    "This shows how many `partial_fit` calls will be performed in the computation. `metadata` also includes information on the number of models created."
   ]
  },
  {
   "cell_type": "markdown",
   "metadata": {},
   "source": [
    "So far, all that's been done is getting the search ready for computation (and seeing how much computation will be performed). So far, all the computation has been quick and easy."
   ]
  },
  {
   "cell_type": "markdown",
   "metadata": {},
   "source": [
    "## Performing the computation"
   ]
  },
  {
   "cell_type": "markdown",
   "metadata": {},
   "source": [
    "Now, let's do the model selection search and find the best hyperparameters. This is the real core of this notebook. This computation will be take place on all the hardware Dask has available.\n"
   ]
  },
  {
   "cell_type": "code",
   "execution_count": 16,
   "metadata": {
    "execution": {
     "iopub.execute_input": "2022-06-16T17:50:50.500545Z",
     "iopub.status.busy": "2022-06-16T17:50:50.499965Z",
     "iopub.status.idle": "2022-06-16T17:50:56.035529Z",
     "shell.execute_reply": "2022-06-16T17:50:56.034447Z"
    }
   },
   "outputs": [
    {
     "name": "stderr",
     "output_type": "stream",
     "text": [
      "/usr/share/miniconda3/envs/dask-examples/lib/python3.9/site-packages/dask_ml/model_selection/_incremental.py:641: VisibleDeprecationWarning: Creating an ndarray from ragged nested sequences (which is a list-or-tuple of lists-or-tuples-or ndarrays with different lengths or shapes) is deprecated. If you meant to do this, you must specify 'dtype=object' when creating the ndarray.\n",
      "  cv_results = {k: np.array(v) for k, v in cv_results.items()}\n"
     ]
    },
    {
     "name": "stdout",
     "output_type": "stream",
     "text": [
      "CPU times: user 5.55 s, sys: 715 ms, total: 6.27 s\n",
      "Wall time: 5.47 s\n"
     ]
    },
    {
     "name": "stderr",
     "output_type": "stream",
     "text": [
      "/usr/share/miniconda3/envs/dask-examples/lib/python3.9/site-packages/dask_ml/model_selection/_hyperband.py:455: VisibleDeprecationWarning: Creating an ndarray from ragged nested sequences (which is a list-or-tuple of lists-or-tuples-or ndarrays with different lengths or shapes) is deprecated. If you meant to do this, you must specify 'dtype=object' when creating the ndarray.\n",
      "  cv_results = {k: np.array(v) for k, v in cv_results.items()}\n"
     ]
    },
    {
     "data": {
      "text/plain": [
       "HyperbandSearchCV(estimator=MLPClassifier(), max_iter=8,\n",
       "                  parameters={'activation': ['relu', 'logistic', 'tanh'],\n",
       "                              'alpha': array([1.00000000e-06, 1.00693863e-06, 1.01392541e-06, 1.02096066e-06,\n",
       "       1.02804473e-06, 1.03517796e-06, 1.04236067e-06, 1.04959323e-06,\n",
       "       1.05687597e-06, 1.06420924e-06, 1.07159340e-06, 1.07902879e-06,\n",
       "       1.08651577e-06, 1.09405471e-06, 1.10164595e-06, 1.1...\n",
       "       9.01477631e-04, 9.07732653e-04, 9.14031075e-04, 9.20373200e-04,\n",
       "       9.26759330e-04, 9.33189772e-04, 9.39664831e-04, 9.46184819e-04,\n",
       "       9.52750047e-04, 9.59360829e-04, 9.66017480e-04, 9.72720319e-04,\n",
       "       9.79469667e-04, 9.86265846e-04, 9.93109181e-04, 1.00000000e-03]),\n",
       "                              'batch_size': [16, 32, 64, 128, 256, 512],\n",
       "                              'hidden_layer_sizes': [(24,), (12, 12),\n",
       "                                                     (6, 6, 6, 6),\n",
       "                                                     (4, 4, 4, 4, 4, 4),\n",
       "                                                     (12, 6, 3, 3)]},\n",
       "                  patience=True)"
      ]
     },
     "execution_count": 16,
     "metadata": {},
     "output_type": "execute_result"
    }
   ],
   "source": [
    "%%time\n",
    "search.fit(X_train2, y_train2, classes=[0, 1, 2, 3])"
   ]
  },
  {
   "cell_type": "markdown",
   "metadata": {},
   "source": [
    "The dashboard will be active while this is running. It will show which workers are running `partial_fit` and `score` calls.\n",
    "This takes about 10 seconds."
   ]
  },
  {
   "cell_type": "markdown",
   "metadata": {},
   "source": [
    "## Integration"
   ]
  },
  {
   "cell_type": "markdown",
   "metadata": {},
   "source": [
    "`HyperbandSearchCV` follows the Scikit-learn API and mirrors Scikit-learn's `RandomizedSearchCV`. This means that it \"just works\". All the Scikit-learn attributes and methods are available:"
   ]
  },
  {
   "cell_type": "code",
   "execution_count": 17,
   "metadata": {
    "execution": {
     "iopub.execute_input": "2022-06-16T17:50:56.042247Z",
     "iopub.status.busy": "2022-06-16T17:50:56.041562Z",
     "iopub.status.idle": "2022-06-16T17:50:56.062991Z",
     "shell.execute_reply": "2022-06-16T17:50:56.054837Z"
    }
   },
   "outputs": [
    {
     "data": {
      "text/plain": [
       "0.8034"
      ]
     },
     "execution_count": 17,
     "metadata": {},
     "output_type": "execute_result"
    }
   ],
   "source": [
    "search.best_score_"
   ]
  },
  {
   "cell_type": "code",
   "execution_count": 18,
   "metadata": {
    "execution": {
     "iopub.execute_input": "2022-06-16T17:50:56.076329Z",
     "iopub.status.busy": "2022-06-16T17:50:56.075375Z",
     "iopub.status.idle": "2022-06-16T17:50:56.092530Z",
     "shell.execute_reply": "2022-06-16T17:50:56.089625Z"
    }
   },
   "outputs": [
    {
     "data": {
      "text/plain": [
       "MLPClassifier(activation='tanh', alpha=3.4240061379714256e-05, batch_size=16,\n",
       "              hidden_layer_sizes=(12, 12))"
      ]
     },
     "execution_count": 18,
     "metadata": {},
     "output_type": "execute_result"
    }
   ],
   "source": [
    "search.best_estimator_"
   ]
  },
  {
   "cell_type": "code",
   "execution_count": 19,
   "metadata": {
    "execution": {
     "iopub.execute_input": "2022-06-16T17:50:56.101157Z",
     "iopub.status.busy": "2022-06-16T17:50:56.100193Z",
     "iopub.status.idle": "2022-06-16T17:50:56.130524Z",
     "shell.execute_reply": "2022-06-16T17:50:56.127386Z"
    }
   },
   "outputs": [
    {
     "data": {
      "text/html": [
       "<div>\n",
       "<style scoped>\n",
       "    .dataframe tbody tr th:only-of-type {\n",
       "        vertical-align: middle;\n",
       "    }\n",
       "\n",
       "    .dataframe tbody tr th {\n",
       "        vertical-align: top;\n",
       "    }\n",
       "\n",
       "    .dataframe thead th {\n",
       "        text-align: right;\n",
       "    }\n",
       "</style>\n",
       "<table border=\"1\" class=\"dataframe\">\n",
       "  <thead>\n",
       "    <tr style=\"text-align: right;\">\n",
       "      <th></th>\n",
       "      <th>param_alpha</th>\n",
       "      <th>rank_test_score</th>\n",
       "      <th>mean_partial_fit_time</th>\n",
       "      <th>bracket</th>\n",
       "      <th>param_hidden_layer_sizes</th>\n",
       "      <th>param_batch_size</th>\n",
       "      <th>mean_score_time</th>\n",
       "      <th>std_partial_fit_time</th>\n",
       "      <th>model_id</th>\n",
       "      <th>test_score</th>\n",
       "      <th>param_activation</th>\n",
       "      <th>std_score_time</th>\n",
       "      <th>partial_fit_calls</th>\n",
       "      <th>params</th>\n",
       "    </tr>\n",
       "  </thead>\n",
       "  <tbody>\n",
       "    <tr>\n",
       "      <th>0</th>\n",
       "      <td>0.000034</td>\n",
       "      <td>1</td>\n",
       "      <td>0.663017</td>\n",
       "      <td>1</td>\n",
       "      <td>(12, 12)</td>\n",
       "      <td>16</td>\n",
       "      <td>0.018825</td>\n",
       "      <td>0.098340</td>\n",
       "      <td>bracket=1-0</td>\n",
       "      <td>0.8034</td>\n",
       "      <td>tanh</td>\n",
       "      <td>0.009626</td>\n",
       "      <td>6</td>\n",
       "      <td>{'hidden_layer_sizes': (12, 12), 'batch_size':...</td>\n",
       "    </tr>\n",
       "    <tr>\n",
       "      <th>1</th>\n",
       "      <td>0.000123</td>\n",
       "      <td>3</td>\n",
       "      <td>0.494922</td>\n",
       "      <td>1</td>\n",
       "      <td>(24,)</td>\n",
       "      <td>256</td>\n",
       "      <td>0.024067</td>\n",
       "      <td>0.103308</td>\n",
       "      <td>bracket=1-1</td>\n",
       "      <td>0.4898</td>\n",
       "      <td>tanh</td>\n",
       "      <td>0.006656</td>\n",
       "      <td>2</td>\n",
       "      <td>{'hidden_layer_sizes': (24,), 'batch_size': 25...</td>\n",
       "    </tr>\n",
       "    <tr>\n",
       "      <th>2</th>\n",
       "      <td>0.000046</td>\n",
       "      <td>2</td>\n",
       "      <td>0.861133</td>\n",
       "      <td>1</td>\n",
       "      <td>(12, 6, 3, 3)</td>\n",
       "      <td>64</td>\n",
       "      <td>0.045255</td>\n",
       "      <td>0.096093</td>\n",
       "      <td>bracket=1-2</td>\n",
       "      <td>0.4986</td>\n",
       "      <td>logistic</td>\n",
       "      <td>0.005409</td>\n",
       "      <td>2</td>\n",
       "      <td>{'hidden_layer_sizes': (12, 6, 3, 3), 'batch_s...</td>\n",
       "    </tr>\n",
       "    <tr>\n",
       "      <th>3</th>\n",
       "      <td>0.000010</td>\n",
       "      <td>2</td>\n",
       "      <td>0.884140</td>\n",
       "      <td>0</td>\n",
       "      <td>[6, 6, 6, 6]</td>\n",
       "      <td>16</td>\n",
       "      <td>0.018906</td>\n",
       "      <td>0.204872</td>\n",
       "      <td>bracket=0-0</td>\n",
       "      <td>0.4904</td>\n",
       "      <td>logistic</td>\n",
       "      <td>0.011699</td>\n",
       "      <td>5</td>\n",
       "      <td>{'hidden_layer_sizes': (6, 6, 6, 6), 'batch_si...</td>\n",
       "    </tr>\n",
       "    <tr>\n",
       "      <th>4</th>\n",
       "      <td>0.000253</td>\n",
       "      <td>1</td>\n",
       "      <td>0.404918</td>\n",
       "      <td>0</td>\n",
       "      <td>[6, 6, 6, 6]</td>\n",
       "      <td>64</td>\n",
       "      <td>0.039067</td>\n",
       "      <td>0.048275</td>\n",
       "      <td>bracket=0-1</td>\n",
       "      <td>0.5096</td>\n",
       "      <td>logistic</td>\n",
       "      <td>0.007699</td>\n",
       "      <td>3</td>\n",
       "      <td>{'hidden_layer_sizes': (6, 6, 6, 6), 'batch_si...</td>\n",
       "    </tr>\n",
       "  </tbody>\n",
       "</table>\n",
       "</div>"
      ],
      "text/plain": [
       "   param_alpha  rank_test_score  mean_partial_fit_time  bracket  \\\n",
       "0     0.000034                1               0.663017        1   \n",
       "1     0.000123                3               0.494922        1   \n",
       "2     0.000046                2               0.861133        1   \n",
       "3     0.000010                2               0.884140        0   \n",
       "4     0.000253                1               0.404918        0   \n",
       "\n",
       "  param_hidden_layer_sizes  param_batch_size  mean_score_time  \\\n",
       "0                 (12, 12)                16         0.018825   \n",
       "1                    (24,)               256         0.024067   \n",
       "2            (12, 6, 3, 3)                64         0.045255   \n",
       "3             [6, 6, 6, 6]                16         0.018906   \n",
       "4             [6, 6, 6, 6]                64         0.039067   \n",
       "\n",
       "   std_partial_fit_time     model_id  test_score param_activation  \\\n",
       "0              0.098340  bracket=1-0      0.8034             tanh   \n",
       "1              0.103308  bracket=1-1      0.4898             tanh   \n",
       "2              0.096093  bracket=1-2      0.4986         logistic   \n",
       "3              0.204872  bracket=0-0      0.4904         logistic   \n",
       "4              0.048275  bracket=0-1      0.5096         logistic   \n",
       "\n",
       "   std_score_time  partial_fit_calls  \\\n",
       "0        0.009626                  6   \n",
       "1        0.006656                  2   \n",
       "2        0.005409                  2   \n",
       "3        0.011699                  5   \n",
       "4        0.007699                  3   \n",
       "\n",
       "                                              params  \n",
       "0  {'hidden_layer_sizes': (12, 12), 'batch_size':...  \n",
       "1  {'hidden_layer_sizes': (24,), 'batch_size': 25...  \n",
       "2  {'hidden_layer_sizes': (12, 6, 3, 3), 'batch_s...  \n",
       "3  {'hidden_layer_sizes': (6, 6, 6, 6), 'batch_si...  \n",
       "4  {'hidden_layer_sizes': (6, 6, 6, 6), 'batch_si...  "
      ]
     },
     "execution_count": 19,
     "metadata": {},
     "output_type": "execute_result"
    }
   ],
   "source": [
    "cv_results = pd.DataFrame(search.cv_results_)\n",
    "cv_results.head()"
   ]
  },
  {
   "cell_type": "code",
   "execution_count": 20,
   "metadata": {
    "execution": {
     "iopub.execute_input": "2022-06-16T17:50:56.138580Z",
     "iopub.status.busy": "2022-06-16T17:50:56.137385Z",
     "iopub.status.idle": "2022-06-16T17:50:56.160164Z",
     "shell.execute_reply": "2022-06-16T17:50:56.156769Z"
    }
   },
   "outputs": [
    {
     "data": {
      "text/plain": [
       "0.7972"
      ]
     },
     "execution_count": 20,
     "metadata": {},
     "output_type": "execute_result"
    }
   ],
   "source": [
    "search.score(X_test, y_test)"
   ]
  },
  {
   "cell_type": "code",
   "execution_count": 21,
   "metadata": {
    "execution": {
     "iopub.execute_input": "2022-06-16T17:50:56.167417Z",
     "iopub.status.busy": "2022-06-16T17:50:56.165031Z",
     "iopub.status.idle": "2022-06-16T17:50:56.192982Z",
     "shell.execute_reply": "2022-06-16T17:50:56.192350Z"
    }
   },
   "outputs": [
    {
     "data": {
      "text/html": [
       "<table>\n",
       "    <tr>\n",
       "        <td>\n",
       "            <table>\n",
       "                <thead>\n",
       "                    <tr>\n",
       "                        <td> </td>\n",
       "                        <th> Array </th>\n",
       "                        <th> Chunk </th>\n",
       "                    </tr>\n",
       "                </thead>\n",
       "                <tbody>\n",
       "                    \n",
       "                    <tr>\n",
       "                        <th> Bytes </th>\n",
       "                        <td> 39.06 kiB </td>\n",
       "                        <td> 39.06 kiB </td>\n",
       "                    </tr>\n",
       "                    \n",
       "                    <tr>\n",
       "                        <th> Shape </th>\n",
       "                        <td> (5000,) </td>\n",
       "                        <td> (5000,) </td>\n",
       "                    </tr>\n",
       "                    <tr>\n",
       "                        <th> Count </th>\n",
       "                        <td> 2 Tasks </td>\n",
       "                        <td> 1 Chunks </td>\n",
       "                    </tr>\n",
       "                    <tr>\n",
       "                    <th> Type </th>\n",
       "                    <td> int64 </td>\n",
       "                    <td> numpy.ndarray </td>\n",
       "                    </tr>\n",
       "                </tbody>\n",
       "            </table>\n",
       "        </td>\n",
       "        <td>\n",
       "        <svg width=\"170\" height=\"75\" style=\"stroke:rgb(0,0,0);stroke-width:1\" >\n",
       "\n",
       "  <!-- Horizontal lines -->\n",
       "  <line x1=\"0\" y1=\"0\" x2=\"120\" y2=\"0\" style=\"stroke-width:2\" />\n",
       "  <line x1=\"0\" y1=\"25\" x2=\"120\" y2=\"25\" style=\"stroke-width:2\" />\n",
       "\n",
       "  <!-- Vertical lines -->\n",
       "  <line x1=\"0\" y1=\"0\" x2=\"0\" y2=\"25\" style=\"stroke-width:2\" />\n",
       "  <line x1=\"120\" y1=\"0\" x2=\"120\" y2=\"25\" style=\"stroke-width:2\" />\n",
       "\n",
       "  <!-- Colored Rectangle -->\n",
       "  <polygon points=\"0.0,0.0 120.0,0.0 120.0,25.412616514582485 0.0,25.412616514582485\" style=\"fill:#ECB172A0;stroke-width:0\"/>\n",
       "\n",
       "  <!-- Text -->\n",
       "  <text x=\"60.000000\" y=\"45.412617\" font-size=\"1.0rem\" font-weight=\"100\" text-anchor=\"middle\" >5000</text>\n",
       "  <text x=\"140.000000\" y=\"12.706308\" font-size=\"1.0rem\" font-weight=\"100\" text-anchor=\"middle\" transform=\"rotate(0,140.000000,12.706308)\">1</text>\n",
       "</svg>\n",
       "        </td>\n",
       "    </tr>\n",
       "</table>"
      ],
      "text/plain": [
       "dask.array<_predict, shape=(5000,), dtype=int64, chunksize=(5000,), chunktype=numpy.ndarray>"
      ]
     },
     "execution_count": 21,
     "metadata": {},
     "output_type": "execute_result"
    }
   ],
   "source": [
    "search.predict(X_test)"
   ]
  },
  {
   "cell_type": "code",
   "execution_count": 22,
   "metadata": {
    "execution": {
     "iopub.execute_input": "2022-06-16T17:50:56.202207Z",
     "iopub.status.busy": "2022-06-16T17:50:56.200133Z",
     "iopub.status.idle": "2022-06-16T17:50:56.263878Z",
     "shell.execute_reply": "2022-06-16T17:50:56.259901Z"
    }
   },
   "outputs": [
    {
     "data": {
      "text/plain": [
       "array([1, 0, 1, ..., 0, 0, 0])"
      ]
     },
     "execution_count": 22,
     "metadata": {},
     "output_type": "execute_result"
    }
   ],
   "source": [
    "search.predict(X_test).compute()"
   ]
  },
  {
   "cell_type": "markdown",
   "metadata": {},
   "source": [
    "It also has some other attributes."
   ]
  },
  {
   "cell_type": "code",
   "execution_count": 23,
   "metadata": {
    "execution": {
     "iopub.execute_input": "2022-06-16T17:50:56.268285Z",
     "iopub.status.busy": "2022-06-16T17:50:56.267961Z",
     "iopub.status.idle": "2022-06-16T17:50:56.288253Z",
     "shell.execute_reply": "2022-06-16T17:50:56.285351Z"
    }
   },
   "outputs": [
    {
     "data": {
      "text/html": [
       "<div>\n",
       "<style scoped>\n",
       "    .dataframe tbody tr th:only-of-type {\n",
       "        vertical-align: middle;\n",
       "    }\n",
       "\n",
       "    .dataframe tbody tr th {\n",
       "        vertical-align: top;\n",
       "    }\n",
       "\n",
       "    .dataframe thead th {\n",
       "        text-align: right;\n",
       "    }\n",
       "</style>\n",
       "<table border=\"1\" class=\"dataframe\">\n",
       "  <thead>\n",
       "    <tr style=\"text-align: right;\">\n",
       "      <th></th>\n",
       "      <th>model_id</th>\n",
       "      <th>params</th>\n",
       "      <th>partial_fit_calls</th>\n",
       "      <th>partial_fit_time</th>\n",
       "      <th>score</th>\n",
       "      <th>score_time</th>\n",
       "      <th>elapsed_wall_time</th>\n",
       "      <th>bracket</th>\n",
       "    </tr>\n",
       "  </thead>\n",
       "  <tbody>\n",
       "    <tr>\n",
       "      <th>0</th>\n",
       "      <td>bracket=1-0</td>\n",
       "      <td>{'hidden_layer_sizes': (12, 12), 'batch_size':...</td>\n",
       "      <td>1</td>\n",
       "      <td>0.787463</td>\n",
       "      <td>0.5112</td>\n",
       "      <td>0.028579</td>\n",
       "      <td>1.087161</td>\n",
       "      <td>1</td>\n",
       "    </tr>\n",
       "    <tr>\n",
       "      <th>1</th>\n",
       "      <td>bracket=1-1</td>\n",
       "      <td>{'hidden_layer_sizes': (24,), 'batch_size': 25...</td>\n",
       "      <td>1</td>\n",
       "      <td>0.598230</td>\n",
       "      <td>0.4646</td>\n",
       "      <td>0.017411</td>\n",
       "      <td>1.087162</td>\n",
       "      <td>1</td>\n",
       "    </tr>\n",
       "    <tr>\n",
       "      <th>2</th>\n",
       "      <td>bracket=1-2</td>\n",
       "      <td>{'hidden_layer_sizes': (12, 6, 3, 3), 'batch_s...</td>\n",
       "      <td>1</td>\n",
       "      <td>0.957226</td>\n",
       "      <td>0.4986</td>\n",
       "      <td>0.039846</td>\n",
       "      <td>1.087163</td>\n",
       "      <td>1</td>\n",
       "    </tr>\n",
       "    <tr>\n",
       "      <th>3</th>\n",
       "      <td>bracket=0-0</td>\n",
       "      <td>{'hidden_layer_sizes': (6, 6, 6, 6), 'batch_si...</td>\n",
       "      <td>1</td>\n",
       "      <td>1.151608</td>\n",
       "      <td>0.4904</td>\n",
       "      <td>0.035450</td>\n",
       "      <td>1.285419</td>\n",
       "      <td>0</td>\n",
       "    </tr>\n",
       "    <tr>\n",
       "      <th>4</th>\n",
       "      <td>bracket=0-1</td>\n",
       "      <td>{'hidden_layer_sizes': (6, 6, 6, 6), 'batch_si...</td>\n",
       "      <td>1</td>\n",
       "      <td>0.356643</td>\n",
       "      <td>0.5096</td>\n",
       "      <td>0.031368</td>\n",
       "      <td>1.285421</td>\n",
       "      <td>0</td>\n",
       "    </tr>\n",
       "  </tbody>\n",
       "</table>\n",
       "</div>"
      ],
      "text/plain": [
       "      model_id                                             params  \\\n",
       "0  bracket=1-0  {'hidden_layer_sizes': (12, 12), 'batch_size':...   \n",
       "1  bracket=1-1  {'hidden_layer_sizes': (24,), 'batch_size': 25...   \n",
       "2  bracket=1-2  {'hidden_layer_sizes': (12, 6, 3, 3), 'batch_s...   \n",
       "3  bracket=0-0  {'hidden_layer_sizes': (6, 6, 6, 6), 'batch_si...   \n",
       "4  bracket=0-1  {'hidden_layer_sizes': (6, 6, 6, 6), 'batch_si...   \n",
       "\n",
       "   partial_fit_calls  partial_fit_time   score  score_time  elapsed_wall_time  \\\n",
       "0                  1          0.787463  0.5112    0.028579           1.087161   \n",
       "1                  1          0.598230  0.4646    0.017411           1.087162   \n",
       "2                  1          0.957226  0.4986    0.039846           1.087163   \n",
       "3                  1          1.151608  0.4904    0.035450           1.285419   \n",
       "4                  1          0.356643  0.5096    0.031368           1.285421   \n",
       "\n",
       "   bracket  \n",
       "0        1  \n",
       "1        1  \n",
       "2        1  \n",
       "3        0  \n",
       "4        0  "
      ]
     },
     "execution_count": 23,
     "metadata": {},
     "output_type": "execute_result"
    }
   ],
   "source": [
    "hist = pd.DataFrame(search.history_)\n",
    "hist.head()"
   ]
  },
  {
   "cell_type": "markdown",
   "metadata": {},
   "source": [
    "This illustrates the history after every `partial_fit` call. There's also an attributed `model_history_` that records the history for each model (it's a reorganization of `history_`)."
   ]
  },
  {
   "cell_type": "markdown",
   "metadata": {},
   "source": [
    "## Learn more"
   ]
  },
  {
   "cell_type": "markdown",
   "metadata": {},
   "source": [
    "This notebook covered basic usage `HyperbandSearchCV`. The following documentation and resources might be useful to learn more about `HyperbandSearchCV`, including some of the finer use cases:\n",
    "\n",
    "* [A talk](https://www.youtube.com/watch?v=x67K9FiPFBQ) introducing `HyperbandSearchCV` to the SciPy 2019 audience and the [corresponding paper](https://conference.scipy.org/proceedings/scipy2019/pdfs/scott_sievert.pdf)\n",
    "* [HyperbandSearchCV's documentation](https://ml.dask.org/modules/generated/dask_ml.model_selection.HyperbandSearchCV.html)\n",
    "\n",
    "Performance comparisons can be found in the SciPy 2019 talk/paper."
   ]
  }
 ],
 "metadata": {
  "kernelspec": {
   "display_name": "Python 3 (ipykernel)",
   "language": "python",
   "name": "python3"
  },
  "language_info": {
   "codemirror_mode": {
    "name": "ipython",
    "version": 3
   },
   "file_extension": ".py",
   "mimetype": "text/x-python",
   "name": "python",
   "nbconvert_exporter": "python",
   "pygments_lexer": "ipython3",
   "version": "3.9.12"
  }
 },
 "nbformat": 4,
 "nbformat_minor": 4
}
